{
  "nbformat": 4,
  "nbformat_minor": 0,
  "metadata": {
    "name": "DB4ETL1",
    "notebookId": 3862096147728353,
    "colab": {
      "name": "DB4ETL1.ipynb",
      "provenance": [],
      "include_colab_link": true
    }
  },
  "cells": [
    {
      "cell_type": "markdown",
      "metadata": {
        "id": "view-in-github",
        "colab_type": "text"
      },
      "source": [
        "<a href=\"https://colab.research.google.com/github/kpmishraindia/Databricks4ETL/blob/master/DB4ETL1.ipynb\" target=\"_parent\"><img src=\"https://colab.research.google.com/assets/colab-badge.svg\" alt=\"Open In Colab\"/></a>"
      ]
    },
    {
      "cell_type": "markdown",
      "metadata": {
        "id": "i79IvEIMywO5",
        "colab_type": "text"
      },
      "source": [
        "## Introducing Databricks and Notebooks"
      ]
    },
    {
      "cell_type": "markdown",
      "metadata": {
        "id": "e3rcT0aZz43l",
        "colab_type": "text"
      },
      "source": [
        "Latest version of this notebook in my DataBricks account at \n",
        "> https://community.cloud.databricks.com/?o=2196741575149439#notebook/3862096147728353"
      ]
    },
    {
      "cell_type": "markdown",
      "metadata": {
        "id": "abV5NDUtywO9",
        "colab_type": "text"
      },
      "source": [
        "#### Managing and working with Databricks notebooks\n",
        "Block type page creation - Similar to Confluence, Colab, any Ipython based notebook or even the Wordpress new editor\n",
        ">Managing Notebooks \n",
        "https://docs.databricks.com/notebooks/notebooks-manage.html"
      ]
    },
    {
      "cell_type": "markdown",
      "metadata": {
        "id": "FAZNtxXPywO_",
        "colab_type": "text"
      },
      "source": [
        "#### Markdown Syntax\n",
        "\n",
        "A quick intro of MD is required to write documentation in the notebook. There is no point if we do are old school and just code in Notebooks and not make Code+Documentation when it is so easy to do so\n",
        "\n",
        "Headers are assigned by putting === or --- in the next line. Else just use # at the start of the line. Different levels are assigned by the no of #.\n",
        "\n",
        "A paragraph is created by an empty line\n",
        "\n",
        "To get the full syntax documentation, go to John Gruber's Markdown Syntax page - \n",
        "> This is where all started - http://daringfireball.net/projects/markdown/syntax.\n",
        "\n",
        "List are created with 1. or *  any number will give a serial list till a blank line\n",
        " \n",
        "1. Text Between ** or __ is Bold\n",
        "2. Text Between * or _ is Italic\n",
        "1. Text Between *** or ___ is Bold and Italic\n",
        "\n",
        "Backquote is inserted with a > at the start of a line which continues till a blank line\n",
        "\n",
        ">** Bold ** __Bold__ \n",
        "_Italic_ *Italic* \n",
        "___Bold and Italic___ ***Bold and Italic***"
      ]
    },
    {
      "cell_type": "markdown",
      "metadata": {
        "id": "i_fRjdt2ywPA",
        "colab_type": "text"
      },
      "source": [
        "#### Introducing Databricks\n",
        "\n",
        "Now we have seen Notebooks , let us dig into a simple and quick introduction of Databricks\n",
        "\n",
        "Today Databricks is something of a buzzword in Data Science. It is said Databricks provides quicker calculations and answers. \n",
        "> check for quick intro https://www.advectas.com/en/blog/what-is-databricks/\n",
        "\n",
        "This is because code execution is distributed between several computers (known as a cluster), thus offering better utilisation of available computer power in a cloud, \n",
        "\n",
        "The whole idea of a notebook in Jupyter is it has one kernel which means one primary language per notebook. DB Notebooks also has similar concept - You choose your language when you create a notebook. But you must have noticed that it is called primary language. Because you have the option to override the language for a cell/block by %sql %r %python %scala etc . Similar to %md that can be used to make a block text only and to use Markdown syntax"
      ]
    },
    {
      "cell_type": "markdown",
      "metadata": {
        "id": "qGYjHagIywPB",
        "colab_type": "text"
      },
      "source": [
        "#### An example of ETL in traditional sense - We are trying to do the same in DB and Spark\n",
        "\n",
        "A standard data pipeline \n",
        ">source - extract - clean/merge/filter - tempload - tx - tmpload - aggregate/append/SCD - finalload\n",
        "\n",
        ">TruncateLoad to delta file/table - AppendLoad to Archive file/table\n",
        "\n",
        "You noticed apart from the transformations, the most important action in a datapipline is your commit design\n",
        "\n",
        "For that lets first have a quick recap of Slowly Changing Dimension or SCD\n",
        "\n",
        "Types of SCD\n",
        "* Type 0 – Fixed Dimension. No changes allowed, dimension never changes. Whole table refresh when required\n",
        "* Type 1 – No History. Update record directly, there is no record of historical values, only current state.\n",
        "> We often just want to see the current value of a dimension attribute – it could be that changes to dimensions are required only to correct mistakes - hence hitorical reporting is not expected. But i always felt even here a metadata is required for tracking changes. An audit column added which gives when last updated does the job most of the time.\n",
        "* Type 2 – Row Versioning.Track changes as version records with current flag & active dates and other metadata\n",
        "* Type 3 – Previous Value column.Track change to a specific attribute, add a column to show the previous value, which is updated as further changes occur.\n",
        ">But this will only provide a single historical value for the column for which we decide to maintain previous value.\n",
        "* Type 4 – History Table. Show current value in dimension table but track all changes in separate table\n",
        ">There is no change to our existing table here, we simply update the record as if a Type 1 change had occurred. However, we simultaneously maintain a type 4 history table to keep track of these changes: Whilst our Type 4 historical table is created as: Depending on your requirements, you may place both ID and Surrogate Key onto the fact record so that you can optimise performance whilst maintaining functionality. Separating the historical data makes your dimensions smaller and therefore reduces complexity and improves performance if the majority of uses only need the current value.However, if you do require historical values, this structure adds complexity and data redundancy overheads. It is generally assumed that the system will use Type 1 or Type 2 rather than Type 4.\n",
        "* Type 6 – Hybrid SCD.Utilise techniques from SCD Types 1, 2 and 3 to track change.\n",
        ">maintain a history of all changes whilst simultaneously updating a “current value” column on all records.This gives you the ability to provide an element of change comparison without additional calculation, whilst still maintaining a full, detailed history of all changes in the system.\n",
        "\n",
        ">You must have noticed that there is no SCD type 5. Anyway only type 0,1 or 2 is used. Others, it is said are there for very specific requirements. I have never used them or never felt the need to propose them in any solutions/architecture. When you mess up an architecture due to code debt - in due course of time you land up with Type 6. Or if you end up with Kimball whilst you wished for an Inmon architecture"
      ]
    },
    {
      "cell_type": "code",
      "metadata": {
        "id": "92rp_AxdywPB",
        "colab_type": "code",
        "colab": {}
      },
      "source": [
        ""
      ],
      "execution_count": null,
      "outputs": []
    }
  ]
}